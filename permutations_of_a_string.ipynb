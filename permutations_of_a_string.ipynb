{
 "cells": [
  {
   "cell_type": "code",
   "execution_count": 85,
   "metadata": {},
   "outputs": [
    {
     "data": {
      "text/plain": [
       "['不怕辣', '怕不辣', '怕辣不', '不辣怕', '辣不怕', '辣怕不']"
      ]
     },
     "execution_count": 85,
     "metadata": {},
     "output_type": "execute_result"
    }
   ],
   "source": [
    "\"\"\"List all permutations of a string\"\"\"\n",
    "def permutate(test_string):\n",
    "    if len(test_string) == 1:\n",
    "        return test_string\n",
    "    result=[str[:i] + test_string[0]+ str[i:] for str in permutate(test_string[1:]) for i in range(len(test_string))]\n",
    "    return result\n",
    "test_string = '不怕辣'\n",
    "permutate(test_string)"
   ]
  },
  {
   "cell_type": "code",
   "execution_count": null,
   "metadata": {},
   "outputs": [],
   "source": []
  }
 ],
 "metadata": {
  "kernelspec": {
   "display_name": "Python 3",
   "language": "python",
   "name": "python3"
  },
  "language_info": {
   "codemirror_mode": {
    "name": "ipython",
    "version": 3
   },
   "file_extension": ".py",
   "mimetype": "text/x-python",
   "name": "python",
   "nbconvert_exporter": "python",
   "pygments_lexer": "ipython3",
   "version": "3.7.4"
  }
 },
 "nbformat": 4,
 "nbformat_minor": 2
}
